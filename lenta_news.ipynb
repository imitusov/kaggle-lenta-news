{
  "nbformat": 4,
  "nbformat_minor": 0,
  "metadata": {
    "colab": {
      "name": "lenta-news.ipynb",
      "provenance": [],
      "collapsed_sections": [
        "0HFsC7frLNNb",
        "NQ0AtfGmcdDD",
        "M7nHYqshe97r",
        "aPbiKl9SIMbb",
        "4KwFxHwDZuIn",
        "DllR8uceWW9S",
        "ledQSVddbePl",
        "l2x3QM_FQi51",
        "fD9SEkb1RyeH"
      ],
      "include_colab_link": true
    },
    "kernelspec": {
      "name": "python3",
      "display_name": "Python 3"
    }
  },
  "cells": [
    {
      "cell_type": "markdown",
      "metadata": {
        "id": "view-in-github",
        "colab_type": "text"
      },
      "source": [
        "<a href=\"https://colab.research.google.com/github/imitusov/kaggle-lenta-news/blob/master/lenta_news.ipynb\" target=\"_parent\"><img src=\"https://colab.research.google.com/assets/colab-badge.svg\" alt=\"Open In Colab\"/></a>"
      ]
    },
    {
      "cell_type": "markdown",
      "metadata": {
        "id": "DQ3LFshHKQDj",
        "colab_type": "text"
      },
      "source": [
        "#Imports \n",
        "---"
      ]
    },
    {
      "cell_type": "code",
      "metadata": {
        "id": "e5I4TNF3Xeqp",
        "colab_type": "code",
        "colab": {}
      },
      "source": [
        "# Install CatBoost and others\n",
        "!pip install -q catboost\n",
        "!pip install -q bayesian-optimization\n",
        "!pip install -q pymorphy2\n",
        "!pip install -U -q pymorphy2-dicts-ru\n",
        "!pip uninstall pymystem3 # (https://github.com/nlpub/pymystem3/issues/28)\n",
        "!pip install -q pymystem3==0.1.10\n",
        "\n",
        "%load_ext autoreload\n",
        "%matplotlib inline\n",
        "%xmode Plain\n",
        "%autoreload 2\n",
        "\n",
        "# Warnings\n",
        "import warnings\n",
        "from sklearn.exceptions import DataConversionWarning, UndefinedMetricWarning\n",
        "warnings.simplefilter(action='ignore', category=FutureWarning)\n",
        "\n",
        "# f1_score warning that there is no class in y_pred that exist in y_test\n",
        "warnings.simplefilter(action='ignore', category=UndefinedMetricWarning) \n",
        "\n",
        "# Basic imports\n",
        "from IPython.display import clear_output\n",
        "import os \n",
        "import shutil\n",
        "import random\n",
        "import gc\n",
        "import datetime\n",
        "import re\n",
        "import pandas as pd\n",
        "import numpy as np\n",
        "from typing import List\n",
        "from google.colab import drive, files\n",
        "\n",
        "# NLP libraries\n",
        "import nltk\n",
        "from nltk.corpus import stopwords\n",
        "from nltk.tokenize import word_tokenize, sent_tokenize\n",
        "import string\n",
        "import pymorphy2 as pm2\n",
        "from pymystem3 import Mystem\n",
        "from collections import defaultdict\n",
        "nltk.download('stopwords')\n",
        "nltk.download('averaged_perceptron_tagger_ru')\n",
        "nltk.download('punkt')\n",
        "nltk.download('words')\n",
        "\n",
        "# Sklearn imports\n",
        "from sklearn.linear_model import LogisticRegression\n",
        "from sklearn.naive_bayes import MultinomialNB\n",
        "from sklearn.ensemble import RandomForestClassifier\n",
        "from sklearn.discriminant_analysis import LinearDiscriminantAnalysis\n",
        "from sklearn.svm import NuSVC, LinearSVC, SVC\n",
        "from sklearn.feature_extraction.text import CountVectorizer, TfidfTransformer\n",
        "from sklearn.preprocessing import LabelEncoder, PowerTransformer, \\\n",
        "StandardScaler, MaxAbsScaler, RobustScaler\n",
        "from sklearn.model_selection import StratifiedKFold, cross_val_score\n",
        "from sklearn.pipeline import make_pipeline, Pipeline\n",
        "from sklearn.metrics import make_scorer\n",
        "from sklearn.model_selection import train_test_split, StratifiedShuffleSplit\n",
        "\n",
        "# Boosting libs\n",
        "import catboost as ctb\n",
        "import lightgbm as lgb\n",
        "\n",
        "# Local root\n",
        "drive.mount('/content/drive')\n",
        "root_path = '/content/drive/My Drive/Colab Notebooks/lenta-news/' \n",
        "os.chdir(root_path)\n",
        "\n",
        "# Seed\n",
        "seed_value = 31\n",
        "os.environ['PYTHONHASHSEED'] = str(seed_value)\n",
        "random.seed(seed_value)\n",
        "np.random.seed(seed_value)\n",
        "\n",
        "# Plots\n",
        "import matplotlib.pyplot as plt\n",
        "import plotly.figure_factory as ff\n",
        "import plotly.graph_objects as go\n",
        "import seaborn as sns\n",
        "\n",
        "# Set matplotlob params\n",
        "plt.style.use('seaborn-white')\n",
        "plt.rc('figure', figsize=(12, 8))\n",
        "plt.rc('lines', lw=2, c='g')\n",
        "plt.rc('image', cmap='plasma')\n",
        "plt.rc('axes', facecolor=(0, 0, 0, 0), titlesize=14)\n",
        "plt.rc('xtick', labelsize=10)\n",
        "plt.rc('ytick', labelsize=10)\n",
        "\n",
        "clear_output()"
      ],
      "execution_count": 0,
      "outputs": []
    },
    {
      "cell_type": "markdown",
      "metadata": {
        "id": "KKoxXa_GKPSH",
        "colab_type": "text"
      },
      "source": [
        "## Download data"
      ]
    },
    {
      "cell_type": "code",
      "metadata": {
        "id": "rr_NSJk-XiZL",
        "colab_type": "code",
        "colab": {}
      },
      "source": [
        "# Set up 'lenta-news' dir for files \n",
        "os.mkdir('/content/drive/My Drive/Colab Notebooks/lenta-news/') \n",
        "root_path = '/content/drive/My Drive/Colab Notebooks/lenta-news/'\n",
        "os.chdir(root_path)\n",
        "\n",
        "# Clone git, run news parser\n",
        "!git clone https://github.com/yutkin/Lenta.Ru-News-Dataset.git\n",
        "\n",
        "# Check downloaded files\n",
        "os.chdir(root_path + os.listdir(root_path)[0])\n",
        "\n",
        "# Move files to a newly created dir\n",
        "for files in os.listdir():\n",
        "    shutil.move(files, root_path)\n",
        "os.chdir(root_path)\n",
        "\n",
        "# Remove an extra dir\n",
        "os.rmdir('Lenta.Ru-News-Dataset')\n",
        "\n",
        "# Install dependecies\n",
        "!pip install -q -r requirements.txt\n",
        "\n",
        "# Unfortunally python 3.7 is required. 3.6 is installed on Colab\n",
        "#!python download_lenta.py - doesn't work\n",
        "\n",
        "# Manual download\n",
        "!wget https://github.com/yutkin/Lenta.Ru-News-Dataset/releases/download/v1.0/lenta-ru-news.csv.gz\n",
        "\n",
        "# Unpack the data\n",
        "!gzip -d lenta-ru-news.csv.gz\n",
        "\n",
        "clear_output()"
      ],
      "execution_count": 0,
      "outputs": []
    },
    {
      "cell_type": "markdown",
      "metadata": {
        "id": "_G5kc4xwKXjM",
        "colab_type": "text"
      },
      "source": [
        "## Basic feature extraction"
      ]
    },
    {
      "cell_type": "markdown",
      "metadata": {
        "id": "7Xvdmh8meAKu",
        "colab_type": "text"
      },
      "source": [
        "Lets upload data and make brief feature extraction from URL column."
      ]
    },
    {
      "cell_type": "code",
      "metadata": {
        "id": "exNELTljiEDh",
        "colab_type": "code",
        "outputId": "bc88643d-50c7-4b08-f148-98721c210234",
        "colab": {
          "base_uri": "https://localhost:8080/",
          "height": 91
        }
      },
      "source": [
        "# Upload data\n",
        "df = pd.read_csv(f'{root_path}lenta-ru-news.csv')\n",
        "\n",
        "# Extract URL data\n",
        "df_url = df['url'].str.split('/', expand=True).drop([1, 8], axis=1)\n",
        "df_url.columns = ['protocol', 'site', 'section', 'year', 'month', 'day', 'extension']\n",
        "df_url[['year', 'month', 'day']] = df_url[['year', 'month', 'day']].astype(int)\n",
        "\n",
        "# Concat extracted info and original data\n",
        "df = pd.concat([df, df_url], axis=1)\n",
        "df.drop(['url'], axis=1, inplace=True)\n",
        "del df_url\n",
        "\n",
        "# No unique values - drop columns from set\n",
        "print(df['protocol'].value_counts().head())\n",
        "print(df['site'].value_counts().head())\n",
        "df = df.drop(['protocol', 'site'], axis=1)"
      ],
      "execution_count": 0,
      "outputs": [
        {
          "output_type": "stream",
          "text": [
            "https:    739351\n",
            "Name: protocol, dtype: int64\n",
            "lenta.ru    739351\n",
            "Name: site, dtype: int64\n"
          ],
          "name": "stdout"
        }
      ]
    },
    {
      "cell_type": "code",
      "metadata": {
        "id": "ZWIkFVxKOyje",
        "colab_type": "code",
        "outputId": "a2d3eb50-fa73-47e7-ca28-7bd29464b1e3",
        "colab": {
          "base_uri": "https://localhost:8080/",
          "height": 35
        }
      },
      "source": [
        "# A minor issue - there is an extra space in 'Культпросвет ' word\n",
        "print(sum(df['topic'] == 'Культпросвет '))\n",
        "\n",
        "# Remove an extra space\n",
        "df.loc[df[df['topic'] == 'Культпросвет '].index, 'topic'] = 'Культпросвет'"
      ],
      "execution_count": 0,
      "outputs": [
        {
          "output_type": "stream",
          "text": [
            "340\n"
          ],
          "name": "stdout"
        }
      ]
    },
    {
      "cell_type": "markdown",
      "metadata": {
        "id": "qaWPsz7XQ6Pm",
        "colab_type": "text"
      },
      "source": [
        "# Brief EDA\n",
        "---\n"
      ]
    },
    {
      "cell_type": "markdown",
      "metadata": {
        "id": "VfVvoT2sXN9T",
        "colab_type": "text"
      },
      "source": [
        "First we plot and check target variable distribution. \n",
        "\n",
        "Conclusion:\n",
        "- Set is highly unbalanced\n",
        "- There are several topics with nearly 0 appereance in set"
      ]
    },
    {
      "cell_type": "code",
      "metadata": {
        "id": "_Y9WDvctRwZT",
        "colab_type": "code",
        "colab": {}
      },
      "source": [
        "def plot_variable_count(df, variable):\n",
        "    \"\"\" Plot variable category counts\"\"\"\n",
        "\n",
        "    df[variable].value_counts(ascending=True).plot(kind='barh', width=0.8, colormap='plasma')\n",
        "    plt.title(f'{variable} variable distribution', size=16)\n",
        "\n",
        "plot_variable_count(df, 'topic')"
      ],
      "execution_count": 0,
      "outputs": []
    },
    {
      "cell_type": "markdown",
      "metadata": {
        "id": "XfgZ-UOnYmxF",
        "colab_type": "text"
      },
      "source": [
        "We've found out several nearly zero count topics. Let's find out what share of the dataframe they are account for?\n",
        "\n",
        "The main question is: does any kind of exchange exist between dropping that topics and still mantain a good model performance. The main issue is that we may remove rare topic and have 100% error on them. Otherwise we may include them in the training set and some part of bigger topics may be missclassified as rare categories. \n",
        "\n",
        "Is there a tradeoff between the aforementoined statements?"
      ]
    },
    {
      "cell_type": "code",
      "metadata": {
        "id": "3W9BrXyTWgzK",
        "colab_type": "code",
        "outputId": "70c90774-21bd-4e7e-f1d0-7d1fe00cfef7",
        "colab": {
          "base_uri": "https://localhost:8080/",
          "height": 35
        }
      },
      "source": [
        "rare_topics = ['Культпросвет', 'Легпром', 'Библиотека', 'Оружие', 'ЧМ-2014', 'Сочи', 'МедНовости'] \n",
        "rare_topic_share = np.mean(df['topic'].isin(rare_topics)) * 100\n",
        "\n",
        "print(f'Only {rare_topic_share:.3f}% of data is account for rare topics')"
      ],
      "execution_count": 0,
      "outputs": [
        {
          "output_type": "stream",
          "text": [
            "Only 0.071% of data is account for rare topics\n"
          ],
          "name": "stdout"
        }
      ]
    },
    {
      "cell_type": "markdown",
      "metadata": {
        "id": "8luGsSrcbsCj",
        "colab_type": "text"
      },
      "source": [
        "Lets plot the overall amount of topics that have been published for each year\n",
        "\n",
        "Conclusions:\n",
        "- There is 1914. Should it be considered as 2014?\n",
        "- Rapid growth till 2009, smooth decrease up to 2014, rapid growth at 2016 and qiuck drop at 2018 to the 2013-2015 years results  "
      ]
    },
    {
      "cell_type": "code",
      "metadata": {
        "id": "aZ6IZwgNdUaM",
        "colab_type": "code",
        "colab": {}
      },
      "source": [
        "def plot_variable_count_year(df, variable):\n",
        "    \"\"\" Total amount of publication per year\"\"\"\n",
        "\n",
        "    df.groupby('year').count()[variable].plot(kind='bar', width=0.8, colormap='plasma')\n",
        "    plt.title(f'Total amount of {variable} distributed in time', size=16)\n",
        "\n",
        "plot_variable_count_year(df, 'topic')"
      ],
      "execution_count": 0,
      "outputs": []
    },
    {
      "cell_type": "markdown",
      "metadata": {
        "id": "6TCiyd_Ac9TB",
        "colab_type": "text"
      },
      "source": [
        "All 1914's articles are in fact have been published in 2014 (checked!)"
      ]
    },
    {
      "cell_type": "code",
      "metadata": {
        "id": "JjXj_bDxuRKS",
        "colab_type": "code",
        "colab": {}
      },
      "source": [
        "# Fix year of the articles\n",
        "df.loc[df[df['year'] == 1914].index, 'year'] = 2014\n",
        "\n",
        "# Sort instances by date\n",
        "df.sort_values(['year', 'month', 'day'], ascending=False, inplace=True)\n",
        "df.reset_index(inplace=True, drop=True)"
      ],
      "execution_count": 0,
      "outputs": []
    },
    {
      "cell_type": "markdown",
      "metadata": {
        "id": "IIKxdqbEdHvM",
        "colab_type": "text"
      },
      "source": [
        "Quantity of topics is increasing in time, lets check and compare normalized distribution of topics counts for each year\n",
        "\n",
        "Conclusion:\n",
        "- Topic categories become more equally distributed as time goes"
      ]
    },
    {
      "cell_type": "code",
      "metadata": {
        "id": "zpCvs0rsvq0C",
        "colab_type": "code",
        "colab": {}
      },
      "source": [
        "def plot_top_variable_structure(df, variable):\n",
        "    \"\"\"Plot top-11 normalized categories of a variable for each year\"\"\" \n",
        "\n",
        "    # identify rare categories for variable\n",
        "    rare_categories = df[variable].value_counts()[11:].index \n",
        "    \n",
        "    # Create appropriate structure for graph\n",
        "    df_pivot = df.groupby(['year', variable]).size().reset_index().\\\n",
        "    pivot(columns=variable, index='year', values=0).\\\n",
        "    sort_values(2018, axis=1, ascending=False).fillna(0)\n",
        "    \n",
        "    # Sum rare categories into one big\n",
        "    df_pivot['Прочие'] = df_pivot.loc[:, rare_categories].sum(axis=1, skipna=True)\n",
        "    df_pivot = df_pivot.drop(rare_categories, axis=1)\n",
        "\n",
        "    # Normalize the data\n",
        "    df_pivot = df_pivot.div(df_pivot.sum(axis=1), axis=0)\n",
        "    \n",
        "    # Plot and add a legend\n",
        "    df_pivot.plot(kind='bar', stacked=True, width=1, colormap='plasma')\n",
        "    plt.legend(loc='center left', bbox_to_anchor=(1, 0.5), fontsize=12)\n",
        "    plt.title(f'Structurial shifts of {variable} in time', size=16)\n",
        "\n",
        "plot_top_variable_structure(df, 'topic')"
      ],
      "execution_count": 0,
      "outputs": []
    },
    {
      "cell_type": "markdown",
      "metadata": {
        "id": "flm_p1yufC5d",
        "colab_type": "text"
      },
      "source": [
        "Check missing values and remove instances that either have no topic or text values"
      ]
    },
    {
      "cell_type": "code",
      "metadata": {
        "id": "60lUP-BBN-gC",
        "colab_type": "code",
        "colab": {}
      },
      "source": [
        "def plot_nans(df):\n",
        "    \"\"\"Plot columns with nans\"\"\"\n",
        "    \n",
        "    nan_mask = df.isna().sum() > 0\n",
        "    df.loc[:, nan_mask].isna().sum().sort_values().plot(kind='barh', width=0.8, colormap='plasma')\n",
        "\n",
        "plot_nans(df)"
      ],
      "execution_count": 0,
      "outputs": []
    },
    {
      "cell_type": "code",
      "metadata": {
        "id": "mgdoml0yOrXe",
        "colab_type": "code",
        "outputId": "dd8be79b-fa01-4c1e-a245-59f92412b5b4",
        "colab": {
          "base_uri": "https://localhost:8080/",
          "height": 35
        }
      },
      "source": [
        "# Drop texts with NaNs in topic\n",
        "topic_drop_index = df.loc[df['topic'].isna().values, :].index\n",
        "df.drop(topic_drop_index, axis=0, inplace=True)\n",
        "\n",
        "# Drop texts without text\n",
        "text_drop_index = df.loc[df['text'].isna().values, :].index\n",
        "df.drop(text_drop_index, axis=0, inplace=True)\n",
        "del topic_drop_index, text_drop_index\n",
        "gc.collect()\n",
        "\n",
        "print(f'There are {df.isna().sum().sum()} missing values in set')"
      ],
      "execution_count": 0,
      "outputs": [
        {
          "output_type": "stream",
          "text": [
            "There are 26314 missing values in set\n"
          ],
          "name": "stdout"
        }
      ]
    },
    {
      "cell_type": "markdown",
      "metadata": {
        "id": "hu6ey-8tqRg3",
        "colab_type": "text"
      },
      "source": [
        "Lets check when each category appeared in the set\n",
        "\n",
        "Conclusion:\n",
        "- New topics began to appear in 2014-2015 years\n",
        "- Some of new topics have been dedicated to temporal events like Olympic games"
      ]
    },
    {
      "cell_type": "code",
      "metadata": {
        "id": "hpxnsgyziSaZ",
        "colab_type": "code",
        "colab": {}
      },
      "source": [
        "def plot_topic_appearence(df, variable):\n",
        "    \"\"\"\n",
        "    Plot the first and the last year appearence of the topic in the dataset.\n",
        "    Each horizontal line indicated unique topic.\n",
        "    Start of the line - first and end of the line - last apperiance in set\n",
        "    \"\"\"\n",
        "    \n",
        "    # find unique topic names\n",
        "    set_variable_id = set(df[f'{variable}'])\n",
        "    df_variable_id = []\n",
        "\n",
        "    # find first and last appearance for each topic\n",
        "    for i in set_variable_id:\n",
        "        top = df[df[f'{variable}'] == i].index[0]\n",
        "        top = df.loc[top, 'year']\n",
        "        bottom = df[df[f'{variable}'] == i].index[-1]\n",
        "        bottom = df.loc[bottom, 'year']\n",
        "        df_variable_id.append(dict(Task=f'{i}', Start=top, Finish=bottom))\n",
        "    \n",
        "    # sort values, plot graph\n",
        "    df_variable_id = sorted(df_variable_id, key=lambda x: (x['Start'], x['Finish'])) \n",
        "    fig = ff.create_gantt(df_variable_id, colors=['#d62728'], title='Topic distribution',\n",
        "                          show_hover_fill=False, height=400, bar_width=1, width=600)\n",
        "    fig.show()\n",
        "\n",
        "plot_topic_appearence(df, 'topic')"
      ],
      "execution_count": 0,
      "outputs": []
    },
    {
      "cell_type": "markdown",
      "metadata": {
        "colab_type": "text",
        "id": "Wln-WTdPIsZs"
      },
      "source": [
        "## Metrics\n",
        "---\n",
        "- **Accuracy** isn't a good idea since our set is **unbalanced**, moreover we should consider **downsampling/oversampling** approaches\n",
        "\n",
        "- As a metric we would choose **multiclass log-loss** as it may evaluate model confidence in a certain target class. Also multiclass log-loss is used on a data science competitions. F1-score or MCC metrics is also may be considered.\n",
        "\n",
        "- Also it's reasonable to check a **multiclass confusion matrix** as it may reveal whether the model is being wrong on a concrete subset of training data"
      ]
    },
    {
      "cell_type": "code",
      "metadata": {
        "colab_type": "code",
        "id": "h2jWlrUPIsZd",
        "colab": {}
      },
      "source": [
        "from sklearn.metrics import log_loss, f1_score, confusion_matrix, multilabel_confusion_matrix\n",
        "\n",
        "# Create losses for cross-validation scores\n",
        "f1score = make_scorer(f1_score, greater_is_better=True, average='weighted')\n",
        "logloss = make_scorer(log_loss, greater_is_better=True, needs_proba=True)"
      ],
      "execution_count": 0,
      "outputs": []
    },
    {
      "cell_type": "markdown",
      "metadata": {
        "id": "opHorey8XP24",
        "colab_type": "text"
      },
      "source": [
        "# Cross-validation and metrics\n",
        "---"
      ]
    },
    {
      "cell_type": "markdown",
      "metadata": {
        "id": "Cl2k_ejUZQ_d",
        "colab_type": "text"
      },
      "source": [
        "## Time frame\n",
        "\n",
        "Assumptions:\n",
        "- Time is not important (we won't do TimeSeries splits for validation). As a result we won't keep that columns, otherwise model would see imformation from the future (if we shuffle). \n",
        "\n",
        "- Furthemore, there are a following heuristics: 1) there are years with biased proportion for several categories f.e. economic, business; 2) most part of label appeared in recent years; 3) time feature would lead to overfit for each years' target proportion but it would poorly generalize because in fact we don't know current and future trends; 4) some part of the topics wouldn't appear in future\n",
        "\n",
        "- From EDA we find out that most part of labels appeared in recent years 2015-2018 - we squeeze training set to 2015-2018 and dropped other years\n",
        "\n",
        "- In that case we would lose 'Сочи' and 'ЧМ-2014'\n",
        "\n",
        "Question:\n",
        "- There are 3 seldom topic categoires and 4 appears even less - what if we just drop them?"
      ]
    },
    {
      "cell_type": "code",
      "metadata": {
        "id": "ep8jboRSZ7M0",
        "colab_type": "code",
        "outputId": "1ed9037f-0309-4e0e-e926-a3ef806ae672",
        "colab": {
          "base_uri": "https://localhost:8080/",
          "height": 497
        }
      },
      "source": [
        "df[df['year'] >= 2015]['topic'].value_counts().sort_values().plot(kind='barh', width=0.8, colormap='plasma')"
      ],
      "execution_count": 0,
      "outputs": [
        {
          "output_type": "execute_result",
          "data": {
            "text/plain": [
              "<matplotlib.axes._subplots.AxesSubplot at 0x7f973563b7b8>"
            ]
          },
          "metadata": {
            "tags": []
          },
          "execution_count": 13
        },
        {
          "output_type": "display_data",
          "data": {
            "image/png": "[encoded data removed]",
            "text/plain": [
              "<Figure size 864x576 with 1 Axes>"
            ]
          },
          "metadata": {
            "tags": []
          }
        }
      ]
    },
    {
      "cell_type": "markdown",
      "metadata": {
        "id": "BAH3cLtBvK0d",
        "colab_type": "text"
      },
      "source": [
        "Assumptions:\n",
        "- Following the business purpose of the model, if FN (false negatives) aren't important we may consider to drop rare target cats\n",
        "- The main issue is that we may remove rare topic and have 100% error on them. Otherwise we may include them in the training set and some part of bigger topics may be missclassified as rare categories. "
      ]
    },
    {
      "cell_type": "code",
      "metadata": {
        "colab_type": "code",
        "outputId": "e79661c3-6179-450e-e2ce-4fd286fef5f4",
        "id": "ARgk65yQIsaV",
        "colab": {
          "base_uri": "https://localhost:8080/",
          "height": 53
        }
      },
      "source": [
        "# Percent of rare topic categories.\n",
        "rare_topics_1 = ['Легпром', 'Библиотека', 'Оружие', 'МедНовости', 'Сочи', 'ЧМ-2014'] \n",
        "rare_topics_2 = ['Культпросвет', 'Легпром', 'Библиотека', 'Оружие', 'МедНовости', 'Крым', '69-я параллель'] \n",
        "ratio_1 = np.mean(df[df['year'] >= 2015]['topic'].isin(rare_topics_1)) * 100\n",
        "ratio_2 = np.mean(df[df['year'] >= 2015]['topic'].isin(rare_topics_2)) * 100\n",
        "print(f'{ratio_1:0.3f}% of df is for very rare topics')\n",
        "print(f'{ratio_2:0.3f}% of df is for very rare and seldom topics')"
      ],
      "execution_count": 0,
      "outputs": [
        {
          "output_type": "stream",
          "text": [
            "0.059% of df is for very rare topics\n",
            "1.150% of df is for very rare and seldom topics\n"
          ],
          "name": "stdout"
        }
      ]
    },
    {
      "cell_type": "markdown",
      "metadata": {
        "id": "1V_Oa8QtyAVs",
        "colab_type": "text"
      },
      "source": [
        "Select only 2015 - ... years"
      ]
    },
    {
      "cell_type": "code",
      "metadata": {
        "id": "qTx2XzSTx8Tq",
        "colab_type": "code",
        "outputId": "f1cc7006-8c0e-4553-ffa0-db90637877f9",
        "colab": {
          "base_uri": "https://localhost:8080/",
          "height": 35
        }
      },
      "source": [
        "# Older texts may not be considered as relevant but we may validate our clf on it\n",
        "y_holdout = df[df['year'] < 2015]['topic']\n",
        "X_holdout = df[df['year'] < 2015].drop(['topic'], axis=1)\n",
        "\n",
        "y = df[df['year'] >= 2015]['topic']\n",
        "X = df[df['year'] >= 2015].drop(['topic'], axis=1)\n",
        "cols = X.columns\n",
        "\n",
        "del df\n",
        "gc.collect()"
      ],
      "execution_count": 0,
      "outputs": [
        {
          "output_type": "execute_result",
          "data": {
            "text/plain": [
              "0"
            ]
          },
          "metadata": {
            "tags": []
          },
          "execution_count": 6
        }
      ]
    },
    {
      "cell_type": "code",
      "metadata": {
        "id": "MmEN9MI-a_ce",
        "colab_type": "code",
        "colab": {}
      },
      "source": [
        "# Drop time-featured columns as we will shuffle data\n",
        "X.drop(['year', 'month', 'day'], axis=1, inplace=True)\n",
        "\n",
        "# Find rare topics\n",
        "topics_to_drop = y.value_counts()[y.value_counts() < 10].index\n",
        "index_to_drop = y[y.isin(topics_to_drop)].index\n",
        "\n",
        "# Drop indecies with rare topics\n",
        "X.drop(index_to_drop, axis=0, inplace=True)\n",
        "y.drop(index_to_drop, axis=0, inplace=True)\n",
        "\n",
        "# Same manipulations for X_holdout\n",
        "X_holdout.drop(['year', 'month', 'day'], axis=1, inplace=True)\n",
        "index_to_drop = y_holdout[y_holdout.isin(topics_to_drop)].index\n",
        "\n",
        "# Drop indecies with rare topics for holdout set\n",
        "X_holdout.drop(index_to_drop, axis=0, inplace=True)\n",
        "y_holdout.drop(index_to_drop, axis=0, inplace=True)"
      ],
      "execution_count": 0,
      "outputs": []
    },
    {
      "cell_type": "markdown",
      "metadata": {
        "id": "Vmk0DmldyGAC",
        "colab_type": "text"
      },
      "source": [
        "## Cross-validation"
      ]
    },
    {
      "cell_type": "markdown",
      "metadata": {
        "id": "gmq210n4vtbv",
        "colab_type": "text"
      },
      "source": [
        "Assumptions:\n",
        "- Create a holdout set (X_test) to check generalization error on relevant set (25%)\n",
        "- We also have (X_holdout) - check generalization for old set \n",
        "\n",
        "Cross-validation schemes:\n",
        "- (basic) 1 stratified validation set\n",
        "- (additional) Use 5-fold cross-validation with shuffle (as we don't assume this task to be a time-specific)"
      ]
    },
    {
      "cell_type": "code",
      "metadata": {
        "id": "Arj3lgKIcKk-",
        "colab_type": "code",
        "colab": {}
      },
      "source": [
        "CROSSVAL = 'basic'\n",
        "\n",
        "# Create a stratified test set for a generalization error score\n",
        "X_train, X_test, y_train, y_test = train_test_split(X, y, test_size=0.25,\n",
        "                                                    random_state=31, stratify=y)\n",
        "\n",
        "# Reset index\n",
        "X_train.reset_index(drop=True, inplace=True)\n",
        "y_train.reset_index(drop=True, inplace=True)\n",
        "X_test.reset_index(drop=True, inplace=True)\n",
        "y_test.reset_index(drop=True, inplace=True)\n",
        "\n",
        "# Choose cv scheme\n",
        "if CROSSVAL == 'basic':\n",
        "    cv = StratifiedShuffleSplit(n_splits=1, test_size=0.25, random_state=31)\n",
        "else:\n",
        "    cv = StratifiedKFold(n_splits=5, shuffle=True, random_state=31)"
      ],
      "execution_count": 0,
      "outputs": []
    },
    {
      "cell_type": "markdown",
      "metadata": {
        "id": "X8xCIquozYKY",
        "colab_type": "text"
      },
      "source": [
        "# Preprocessing\n",
        "---"
      ]
    },
    {
      "cell_type": "markdown",
      "metadata": {
        "id": "rHR4M95j0WnC",
        "colab_type": "text"
      },
      "source": [
        "## Drop features"
      ]
    },
    {
      "cell_type": "code",
      "metadata": {
        "id": "9wVCBDOq0WBV",
        "colab_type": "code",
        "colab": {}
      },
      "source": [
        "# Drop unused features\n",
        "X_train.drop(['tags', 'section', 'extension'], axis=1, inplace=True)\n",
        "X_test.drop(['tags', 'section', 'extension'], axis=1, inplace=True)\n",
        "X_holdout.drop(['tags', 'section', 'extension'], axis=1, inplace=True)"
      ],
      "execution_count": 0,
      "outputs": []
    },
    {
      "cell_type": "markdown",
      "metadata": {
        "id": "c0kQR36isd9k",
        "colab_type": "text"
      },
      "source": [
        "## Clean text"
      ]
    },
    {
      "cell_type": "code",
      "metadata": {
        "id": "X6xniCjr0G4L",
        "colab_type": "code",
        "colab": {}
      },
      "source": [
        "def string_to_tokens(text: str) -> List[str]:\n",
        "    \"\"\" \n",
        "    Transform sentence to list with tokens. Remove punctuation, lower letters,\n",
        "    remove stop-words and digits, limmatization\n",
        "\n",
        "    :param text: plain text instance\n",
        "    :return: clean list with tokens \n",
        "    \"\"\"\n",
        "\n",
        "    replacer = str.maketrans('', '', string.punctuation + '«»')\n",
        "    stop_words = stopwords.words('russian')\n",
        "    mystem = Mystem()\n",
        "\n",
        "    regex_pattern = '[a-zA-Z0-9]'\n",
        "\n",
        "    # Remove punctuatuion, english words, digits, make letters lower, tokenize\n",
        "    token_string = word_tokenize(re.sub(regex_pattern, '',\n",
        "                                        text.translate(replacer).lower()))\n",
        "    \n",
        "    # Perform all filters and lemmatization in one loop\n",
        "    token_string = [mystem.lemmatize(word)[0] # lemmatization\n",
        "                    for word in token_string # loop through tokens\n",
        "                    if word not in stop_words # drop stopwords\n",
        "                    and word.isalpha() # drop digits\n",
        "                    and len(word) > 2]  # drop short words\n",
        "    return token_string\n",
        "\n",
        "def frequency_dict(column: str) -> dict:\n",
        "    \"\"\"\n",
        "    Create a frequency dict of a corpus\n",
        "    :param column: df column name with tokens\n",
        "    :return: dict\n",
        "    \"\"\"\n",
        "\n",
        "    frequency = defaultdict(int)\n",
        "    for sentence in X_train.loc[:, column]:\n",
        "        for word in sentence:\n",
        "            frequency[word] += 1\n",
        "    return frequency\n",
        "\n",
        "def remove_rare_words(text: List[str], frequency: dict) -> List[str]:\n",
        "    \"\"\"\n",
        "    Remove rare words according to passed frequency dictionary (frequency == 1)\n",
        "    :param text: list of tokens per instance\n",
        "    :param frequency: frequency dictionary for relevant column\n",
        "    \"\"\" \n",
        "\n",
        "    text = [word for word in text if frequency[word] != 1]\n",
        "    return text"
      ],
      "execution_count": 0,
      "outputs": []
    },
    {
      "cell_type": "code",
      "metadata": {
        "id": "FrCIOCzOsjv0",
        "colab_type": "code",
        "colab": {}
      },
      "source": [
        ""
      ],
      "execution_count": 0,
      "outputs": []
    },
    {
      "cell_type": "code",
      "metadata": {
        "id": "QLDkDKopsj2_",
        "colab_type": "code",
        "colab": {}
      },
      "source": [
        ""
      ],
      "execution_count": 0,
      "outputs": []
    },
    {
      "cell_type": "code",
      "metadata": {
        "id": "gigQ5mhqskFz",
        "colab_type": "code",
        "colab": {}
      },
      "source": [
        ""
      ],
      "execution_count": 0,
      "outputs": []
    },
    {
      "cell_type": "code",
      "metadata": {
        "id": "1Iu4kcfHskDR",
        "colab_type": "code",
        "colab": {}
      },
      "source": [
        ""
      ],
      "execution_count": 0,
      "outputs": []
    },
    {
      "cell_type": "code",
      "metadata": {
        "id": "U1Sv9EUiskAa",
        "colab_type": "code",
        "colab": {}
      },
      "source": [
        ""
      ],
      "execution_count": 0,
      "outputs": []
    },
    {
      "cell_type": "code",
      "metadata": {
        "id": "yj8A1qV4sj-m",
        "colab_type": "code",
        "colab": {}
      },
      "source": [
        ""
      ],
      "execution_count": 0,
      "outputs": []
    },
    {
      "cell_type": "code",
      "metadata": {
        "id": "KDAvv_Uqsj72",
        "colab_type": "code",
        "colab": {}
      },
      "source": [
        ""
      ],
      "execution_count": 0,
      "outputs": []
    },
    {
      "cell_type": "code",
      "metadata": {
        "id": "iiXj3TWwsj6L",
        "colab_type": "code",
        "colab": {}
      },
      "source": [
        ""
      ],
      "execution_count": 0,
      "outputs": []
    },
    {
      "cell_type": "code",
      "metadata": {
        "id": "6ByAk8i4sj1u",
        "colab_type": "code",
        "colab": {}
      },
      "source": [
        ""
      ],
      "execution_count": 0,
      "outputs": []
    },
    {
      "cell_type": "code",
      "metadata": {
        "id": "ZDXQHg1Bsjzy",
        "colab_type": "code",
        "colab": {}
      },
      "source": [
        ""
      ],
      "execution_count": 0,
      "outputs": []
    },
    {
      "cell_type": "markdown",
      "metadata": {
        "id": "0HFsC7frLNNb",
        "colab_type": "text"
      },
      "source": [
        "# Preprocessing that doesn't work\n",
        "---\n",
        "- Calculated text statistics about word, tag, char and etc. counts make score even 0.2 worse"
      ]
    },
    {
      "cell_type": "markdown",
      "metadata": {
        "id": "ACcbuoRRj1Dw",
        "colab_type": "text"
      },
      "source": [
        "## Basic steps\n",
        "---\n",
        "Assumptions:\n",
        "- Applying all transformation for **title** and **text** blocks separatly\n",
        "\n",
        "TO-DO:\n",
        "- Apply translation to **tags** and **extension** features (via googletrans 2.4.0)\n",
        "- More **per sentence** statistics\n",
        "- **Direct speech** statistics analysis (statistics differences with main text of the article)\n",
        "\n",
        "Questions:\n",
        "- Rare target topics - what to do?\n",
        "- Are **tags** and **extension** columns important?\n",
        "- Is **time** feature important?\n",
        "- Are there any **rolling** statistics for texts? \n",
        "- Are there more efficient approaches rather than `.apply(lambda x: x)`?\n",
        "- How to opitmize calculation of a **ncommon_n** feature statistics?"
      ]
    },
    {
      "cell_type": "code",
      "metadata": {
        "id": "-0bT4vRs5bcQ",
        "colab_type": "code",
        "colab": {}
      },
      "source": [
        "# Install libraries and dependecies\n",
        "!pip install -q pymorphy2\n",
        "!pip install -U -q pymorphy2-dicts-ru\n",
        "!pip uninstall pymystem3 # Current version doesn't work in colab (https://github.com/nlpub/pymystem3/issues/28)\n",
        "!pip install -q pymystem3==0.1.10\n",
        "clear_output()"
      ],
      "execution_count": 0,
      "outputs": []
    },
    {
      "cell_type": "code",
      "metadata": {
        "id": "2G2Eobu9YmFu",
        "colab_type": "code",
        "colab": {}
      },
      "source": [
        "import nltk\n",
        "from nltk.corpus import stopwords\n",
        "from nltk.tokenize import word_tokenize, sent_tokenize\n",
        "import string\n",
        "import pymorphy2 as pm2\n",
        "from pymystem3 import Mystem\n",
        "nltk.download('stopwords')\n",
        "nltk.download('averaged_perceptron_tagger_ru')\n",
        "nltk.download('punkt')\n",
        "\n",
        "clear_output()"
      ],
      "execution_count": 0,
      "outputs": []
    },
    {
      "cell_type": "code",
      "metadata": {
        "id": "Byies6wJgplk",
        "colab_type": "code",
        "colab": {}
      },
      "source": [
        "# Create a small set from df to check all transformation, then apply to the whole df\n",
        "df_small, _, y_small, _ = train_test_split(X, y, train_size=0.045, stratify=y, random_state=31)\n",
        "y_small = y.loc[df_small.index]\n",
        "df_small.reset_index(drop=True, inplace=True)\n",
        "y_small.reset_index(drop=True, inplace=True)"
      ],
      "execution_count": 0,
      "outputs": []
    },
    {
      "cell_type": "markdown",
      "metadata": {
        "id": "a9gVdbF1Zbws",
        "colab_type": "text"
      },
      "source": [
        "## Feature engineering before cleaning\n",
        "PLAN:\n",
        "1. (done) Total number of words in document \n",
        "2. (done) Total number of punctuation marks in document \n",
        "3. (done) Total number of upper count words \n",
        "4. (done) Total number of title words \n",
        "5. Amount for Foreign words (via Polyglow)\n",
        "6. (done) Vocablurary diversity \n",
        "7. (done) Per sentence statistics \n",
        "\n",
        "(time) (3000 samples - 31.5 sec.)"
      ]
    },
    {
      "cell_type": "code",
      "metadata": {
        "id": "Uluy1xsoZYUx",
        "colab_type": "code",
        "colab": {}
      },
      "source": [
        "def text_feature_statistic_raw(df, text_column):\n",
        "    \"\"\"Calculate word/sentence statistics on raw df text set\"\"\"\n",
        "\n",
        "    # Main statistics per text\n",
        "    stop_words = stopwords.words('russian')\n",
        "    df_statistics = pd.DataFrame()\n",
        "    df_statistics[f'word_count_{text_column}'] = df[text_column].apply(lambda x: len([word for word in word_tokenize(x) if word not in string.punctuation]))\n",
        "    df_statistics[f'punc_count_{text_column}'] = df[text_column].apply(lambda x: len(''.join(punc for punc in x if punc in string.punctuation)))\n",
        "    df_statistics[f'title_word_count_{text_column}'] = df[text_column].apply(lambda x: len([word for word in word_tokenize(x) if word.istitle()]))\n",
        "    df_statistics[f'upper_word_count_{text_column}'] = df[text_column].apply(lambda x: len([word for word in word_tokenize(x) if word.isupper()]))\n",
        "    df_statistics[f'is_digit_{text_column}'] = df[text_column].apply(lambda x: len([word for word in word_tokenize(x) if word.isdigit()]))\n",
        "    df_statistics[f'stop_words_count_{text_column}'] = df[text_column].apply(lambda x: len([word for word in word_tokenize(x) if word in stop_words]))\n",
        "    df_statistics[f'stop_words_share_{text_column}'] = df_statistics[f'stop_words_count_{text_column}'] / (df_statistics[f'word_count_{text_column}'] + 1)\n",
        "    \n",
        "    # Main statistics per sentences\n",
        "    df_statistics[f'sentence_count_{text_column}'] = df[text_column].apply(lambda x: len(sent_tokenize(x)))\n",
        "    df_statistics[f'sentence_density_{text_column}'] = df_statistics[f'word_count_{text_column}'] / df_statistics[f'sentence_count_{text_column}']\n",
        "    \n",
        "    return df_statistics\n",
        "\n",
        "new_features = text_feature_statistic_raw(df_small, 'text')\n",
        "df_small = pd.concat([df_small, new_features], axis=1)\n",
        "\n",
        "new_features = text_feature_statistic_raw(df_small, 'title')\n",
        "df_small = pd.concat([df_small, new_features], axis=1)\n",
        "\n",
        "# df_small.head(2)"
      ],
      "execution_count": 0,
      "outputs": []
    },
    {
      "cell_type": "markdown",
      "metadata": {
        "id": "zY5WMpzJRYwA",
        "colab_type": "text"
      },
      "source": [
        "## Text cleaning\n",
        "---\n",
        "TO-DO:\n",
        "- More deep text cleaning with regular expression\n",
        "- Levenshtein distance\n",
        "- Check missprints\n",
        "- Named entities (check with Natasha lib)\n",
        "\n",
        "Questions:\n",
        "- Is stemming better?\n",
        "- Replace numbers with words? \n",
        "\n",
        "PLAN:\n",
        "1. (done) Remove stop-words \n",
        "2. (done) Punctuation marks \n",
        "3. (done) Remove upper letters\n",
        "4. (done) Lemmatization\n",
        "5. (done) Drop numbers\n",
        "\n",
        "(time) (3000 samples - 1 min.)\n"
      ]
    },
    {
      "cell_type": "code",
      "metadata": {
        "id": "ZG5t3-3cRcgD",
        "colab_type": "code",
        "outputId": "51ada81f-7e46-4892-bc92-0a33bc614ce3",
        "colab": {
          "base_uri": "https://localhost:8080/",
          "height": 35
        }
      },
      "source": [
        "def text_cleaning(df, text_column):\n",
        "    \"\"\" Remove punctuation, upper letters, numbers, stop-words, lemmatization\"\"\" \n",
        "    \n",
        "    df_text = pd.DataFrame()\n",
        "    replacer = str.maketrans('', '', string.punctuation + '«»')\n",
        "    stop_words = stopwords.words('russian')\n",
        "    mystem = Mystem()\n",
        "\n",
        "    # Remove punctuation\n",
        "    df_text[text_column] = df[text_column].apply(lambda x: x.translate(replacer))\n",
        "\n",
        "    # Remove upper letters\n",
        "    df_text[text_column] = df_text[text_column].apply(lambda x: x.lower())\n",
        "    \n",
        "    # Remove stopwords\n",
        "    df_text[text_column] = df_text[text_column].apply(lambda x: ' '.join(word for word in word_tokenize(x) if x not in stop_words))\n",
        "\n",
        "    # Lemmatization\n",
        "    df_text[text_column] = df_text[text_column].apply(lambda x: ' '.join(mystem.lemmatize(word)[0] for word in word_tokenize(x)))\n",
        "\n",
        "    # Drop numbers\n",
        "    df_text[text_column] = df_text[text_column].apply(lambda x: ''.join(letter for letter in x if not letter.isdigit()))\n",
        "\n",
        "    return df_text\n",
        "\n",
        "new_features = text_cleaning(df_small, 'text')\n",
        "df_small = pd.concat([df_small.drop(['text'], axis=1), new_features], axis=1)\n",
        "\n",
        "new_features = text_cleaning(df_small, 'title')\n",
        "df_small = pd.concat([df_small.drop(['title'], axis=1), new_features], axis=1)\n",
        "\n",
        "# df_small.head(2)"
      ],
      "execution_count": 0,
      "outputs": [
        {
          "output_type": "stream",
          "text": [
            "Installing mystem to /root/.local/bin/mystem from http://download.cdn.yandex.net/mystem/mystem-3.0-linux3.1-64bit.tar.gz\n"
          ],
          "name": "stderr"
        }
      ]
    },
    {
      "cell_type": "markdown",
      "metadata": {
        "id": "cozdeGOUxtqa",
        "colab_type": "text"
      },
      "source": [
        "## Feature engineering after cleaning\n",
        "---\n",
        "TO-DO:\n",
        "- Enhance **tag** extraction for feature space enlargement\n",
        "- Slicing statistics f.e. `text[:len(text.split())/2]`\n",
        "- `freq_long_word_count` and `freq_long_word_share`\n",
        "\n",
        "Questions:\n",
        "- Are there any additional useful statistics?\n",
        "\n",
        "PLAN:\n",
        "1. (done) Total number of charachters in document \n",
        "2. (done) Average length of words in document \n",
        "3. (done) Vocablurary diversity and lexical richness\n",
        "4. (done) Rare and long words counts and shares\n",
        "5. (done) 3-top most common words lengths\n",
        "6. (done) Tag Frequency distribution (noun, verb, adjective, adverb, pronoun etc. count)\n",
        "\n",
        "(time) (3000 samples - 22 sec.)\n",
        "\n",
        "(time) (3000 samples - 2 min)\n",
        "\n"
      ]
    },
    {
      "cell_type": "code",
      "metadata": {
        "id": "uTRy0nLOLkpo",
        "colab_type": "code",
        "colab": {}
      },
      "source": [
        "def text_feature_statistic_clean(df, text_column):\n",
        "    \"\"\" Calculate word/sentence statistics on clean df text set\"\"\"\n",
        "    \n",
        "    df_statistics = pd.DataFrame()\n",
        "    df_statistics[f'char_count_{text_column}'] = df[text_column].apply(len)    \n",
        "    df_statistics[f'word_density_{text_column}'] = df_statistics[f'char_count_{text_column}'] / (df[f'word_count_{text_column}'] + 1)\n",
        "    df_statistics[f'vocablurary_diversity_{text_column}'] = df[text_column].apply(lambda x: len(set([word for word in word_tokenize(x) if word not in string.punctuation])))\n",
        "    df_statistics[f'lexical_richness_{text_column}'] = df_statistics[f'vocablurary_diversity_{text_column}'] / (df[f'word_count_{text_column}'] + 1)\n",
        "    df_statistics[f'rare_word_count_{text_column}'] = df[text_column].apply(lambda x: len(nltk.FreqDist(word_tokenize(x)).hapaxes()))\n",
        "    df_statistics[f'rare_word_share_{text_column}'] = df_statistics[f'rare_word_count_{text_column}'] / (df[f'word_count_{text_column}'] + 1)\n",
        "    df_statistics[f'long_word_count_{text_column}'] = df[text_column].apply(lambda x: len([word for word in word_tokenize(x) if len(word) >= 10]))\n",
        "    df_statistics[f'long_word_share_{text_column}'] = df_statistics[f'long_word_count_{text_column}'] / (df[f'word_count_{text_column}'] + 1)\n",
        "    for idx, row in enumerate(df[text_column]):\n",
        "        freq_dict = nltk.FreqDist([len(word) for word in word_tokenize(row)])\n",
        "        df_statistics.loc[idx, f'mcommon_1_{text_column}'] = int(freq_dict.most_common(1)[-1][0])\n",
        "        df_statistics.loc[idx, f'mcommon_2_{text_column}'] = int(freq_dict.most_common(2)[-1][0])\n",
        "        df_statistics.loc[idx, f'mcommon_3_{text_column}'] = int(freq_dict.most_common(3)[-1][0])\n",
        "\n",
        "    return df_statistics\n",
        "\n",
        "new_features = text_feature_statistic_clean(df_small, 'text')\n",
        "df_small = pd.concat([df_small, new_features], axis=1)\n",
        "\n",
        "new_features = text_feature_statistic_clean(df_small, 'title')\n",
        "df_small = pd.concat([df_small, new_features], axis=1)\n",
        "\n",
        "# df_small.head(2)"
      ],
      "execution_count": 0,
      "outputs": []
    },
    {
      "cell_type": "code",
      "metadata": {
        "id": "RjbAwoF-Zn38",
        "colab_type": "code",
        "colab": {}
      },
      "source": [
        "def text_tags_statistics(df, text_column):\n",
        "    \"\"\" Calculate words' tag statistics\n",
        "    Source: https://www.hse.ru/data/2017/07/22/1173852775/NLPandDA_4print.pdf (page 77)\n",
        "    \"\"\"\n",
        "\n",
        "    tags = {f'NOUN_{text_column}': 0, f'ADJF_{text_column}': 0, f'ADJS_{text_column}': 0,\n",
        "                 f'COMP_{text_column}': 0, f'VERB_{text_column}': 0, f'INFN_{text_column}': 0,\n",
        "                 f'PRTF_{text_column}': 0, f'PRTS_{text_column}': 0, f'GRND_{text_column}': 0,\n",
        "                 f'NUMR_{text_column}': 0, f'ADVB_{text_column}': 0, f'NPRO_{text_column}': 0,\n",
        "                 f'PRED_{text_column}': 0, f'PREP_{text_column}': 0, f'CONJ_{text_column}': 0,\n",
        "                 f'PRCL_{text_column}': 0, f'INTJ_{text_column}': 0, f'LATN_{text_column}': 0,\n",
        "                 f'UNKN_{text_column}': 0}\n",
        "\n",
        "    morph = pm2.MorphAnalyzer()\n",
        "    df_tags = pd.DataFrame(columns=tags.keys())\n",
        "    \n",
        "    def tags_counter(article):\n",
        "        \"\"\"Count tag counters for each text\"\"\"\n",
        "\n",
        "        tag_count = {f'NOUN_{text_column}': 0, f'ADJF_{text_column}': 0, f'ADJS_{text_column}': 0,\n",
        "                     f'COMP_{text_column}': 0, f'VERB_{text_column}': 0, f'INFN_{text_column}': 0,\n",
        "                     f'PRTF_{text_column}': 0, f'PRTS_{text_column}': 0, f'GRND_{text_column}': 0,\n",
        "                     f'NUMR_{text_column}': 0, f'ADVB_{text_column}': 0, f'NPRO_{text_column}': 0,\n",
        "                     f'PRED_{text_column}': 0, f'PREP_{text_column}': 0, f'CONJ_{text_column}': 0,\n",
        "                     f'PRCL_{text_column}': 0, f'INTJ_{text_column}': 0, f'LATN_{text_column}': 0,\n",
        "                     f'UNKN_{text_column}': 0}\n",
        "\n",
        "        for word in article.split():\n",
        "            tag = morph.parse(word)[0].tag.POS\n",
        "            if tag is not None:\n",
        "                try:\n",
        "                    tag_count[tag + f'_{text_column}'] += 1\n",
        "                except KeyError:\n",
        "                    continue\n",
        "            else:\n",
        "                continue\n",
        "        return pd.DataFrame().from_dict(tag_count, orient='index').T\n",
        "\n",
        "    for row in df[text_column]:\n",
        "        df_tags = pd.concat([df_tags, tags_counter(row)], axis=0)\n",
        "    \n",
        "    df_tags.reset_index(inplace=True, drop=True)\n",
        "\n",
        "    df_tags[f'param_1_{text_column}'] = (df_tags[f'NOUN_{text_column}'] + df_tags[f'NPRO_{text_column}']) \\\n",
        "    / (df_tags[f'ADJF_{text_column}'] + df_tags[f'ADJS_{text_column}'] + df_tags[f'VERB_{text_column}']\n",
        "       + df_tags[f'INFN_{text_column}'] + df_tags[f'PRTF_{text_column}'] + df_tags[f'PRTS_{text_column}']\n",
        "       + df_tags[f'GRND_{text_column}'] + 1) \n",
        "    \n",
        "    df_tags[f'param_2_{text_column}'] = (df_tags[f'ADJF_{text_column}'] + df_tags[f'ADJS_{text_column}']\n",
        "                                         + df_tags[f'ADVB_{text_column}']) \\\n",
        "    / (df_tags[f'NOUN_{text_column}'] + df_tags[f'NPRO_{text_column}'] + df_tags[f'VERB_{text_column}']\n",
        "       + df_tags[f'INFN_{text_column}'] + df_tags[f'PRTF_{text_column}'] + df_tags[f'PRTS_{text_column}']\n",
        "       + df_tags[f'GRND_{text_column}'] + 1) \n",
        "    \n",
        "    df_tags[f'param_3_{text_column}'] = (df_tags[f'VERB_{text_column}'] + df_tags[f'INFN_{text_column}']\n",
        "                                         + df_tags[f'PRTF_{text_column}'] + df_tags[f'PRTS_{text_column}'] + df_tags[f'GRND_{text_column}']) \\\n",
        "                                         / (df[f'word_count_{text_column}'] + 1)\n",
        "    \n",
        "    df_tags[f'param_4_{text_column}'] = (df_tags[f'VERB_{text_column}'] + df_tags[f'INFN_{text_column}']\n",
        "                                         + df_tags[f'PRTF_{text_column}'] + df_tags[f'PRTS_{text_column}'] + df_tags[f'GRND_{text_column}']) \\\n",
        "    / (df_tags[f'NOUN_{text_column}'] + df_tags[f'NPRO_{text_column}'] + df_tags[f'ADJF_{text_column}'] + df_tags[f'ADJS_{text_column}'] + 1) \n",
        "    \n",
        "    df_tags[f'param_5_{text_column}'] = (df_tags[f'PREP_{text_column}'] + df_tags[f'CONJ_{text_column}']) / (df[f'sentence_count_{text_column}'] + 1)\n",
        "\n",
        "    return df_tags\n",
        "\n",
        "new_features = text_tags_statistics(df_small, 'text')\n",
        "df_small = pd.concat([df_small, new_features], axis=1)\n",
        "\n",
        "new_features = text_tags_statistics(df_small, 'title')\n",
        "df_small = pd.concat([df_small, new_features], axis=1)\n",
        "\n",
        "# df_small.head(2)"
      ],
      "execution_count": 0,
      "outputs": []
    },
    {
      "cell_type": "markdown",
      "metadata": {
        "id": "LUzA9zmuH9KX",
        "colab_type": "text"
      },
      "source": [
        "## More EDA\n",
        "---\n",
        "TO-DO:\n",
        "- more graphs based on calculated statistics\n",
        "- Lexical Disperison Plots (https://www.pythonprogramming.in/nltk-lexical-dispersion-plot.html)\n",
        "- Heaps' Law graph\n"
      ]
    },
    {
      "cell_type": "markdown",
      "metadata": {
        "id": "smuNEJ983c-5",
        "colab_type": "text"
      },
      "source": [
        "Average word length of text per topic "
      ]
    },
    {
      "cell_type": "code",
      "metadata": {
        "id": "PK1xbxPtH_Nk",
        "colab_type": "code",
        "outputId": "c45d0348-324d-4fe8-ac7c-83d7eadd1d1c",
        "colab": {
          "base_uri": "https://localhost:8080/",
          "height": 496
        }
      },
      "source": [
        "df_concat = pd.concat([df_small, y_small], axis=1)\n",
        "df_concat.groupby(['topic'])['word_count_text'].\\\n",
        "mean().sort_values().plot(kind='barh', width=0.8, colormap='plasma')"
      ],
      "execution_count": 0,
      "outputs": [
        {
          "output_type": "execute_result",
          "data": {
            "text/plain": [
              "<matplotlib.axes._subplots.AxesSubplot at 0x7f8106eea198>"
            ]
          },
          "metadata": {
            "tags": []
          },
          "execution_count": 28
        },
        {
          "output_type": "display_data",
          "data": {
            "image/png": "[encoded data removed]",
            "text/plain": [
              "<Figure size 864x576 with 1 Axes>"
            ]
          },
          "metadata": {
            "tags": []
          }
        }
      ]
    },
    {
      "cell_type": "markdown",
      "metadata": {
        "id": "qrM8UJkL3ZQ6",
        "colab_type": "text"
      },
      "source": [
        "Plot 'word_count_text' distribution for all topics. May check other statistics to discover insights"
      ]
    },
    {
      "cell_type": "code",
      "metadata": {
        "id": "8IrHNW7X6Id6",
        "colab_type": "code",
        "outputId": "60884d3e-a51c-45a9-9566-5494e44d742c",
        "colab": {
          "base_uri": "https://localhost:8080/",
          "height": 660
        }
      },
      "source": [
        "def ridge_plot(df, variable):\n",
        "    pal = sns.cubehelix_palette(10, rot=-1.25, light=.7)\n",
        "    g = sns.FacetGrid(df, row='topic', hue='topic', aspect=12, height=0.5, palette=pal)\n",
        "    g.map(sns.kdeplot, variable, clip_on=False, shade=True, alpha=1, lw=1, bw=.9)\n",
        "    g.map(sns.kdeplot, variable, clip_on=False, color='w', lw=1, bw=.9)\n",
        "    g.map(plt.axhline, y=0, lw=1, clip_on=False)\n",
        "    def label(x, color, label):\n",
        "        ax = plt.gca()\n",
        "        ax.text(0, .2, label, fontweight='bold', color=color,\n",
        "                ha='left', va='center', transform=ax.transAxes)\n",
        "    g.map(label, variable)\n",
        "    g.fig.subplots_adjust(hspace=-.25)\n",
        "    g.set_titles('')\n",
        "    g.set(yticks=[])\n",
        "    g.despine(bottom=True, left=True)\n",
        "    return g\n",
        "\n",
        "ridge_plot(df_concat, 'word_count_text')"
      ],
      "execution_count": 0,
      "outputs": [
        {
          "output_type": "execute_result",
          "data": {
            "text/plain": [
              "<seaborn.axisgrid.FacetGrid at 0x7f8106f3bd68>"
            ]
          },
          "metadata": {
            "tags": []
          },
          "execution_count": 29
        },
        {
          "output_type": "display_data",
          "data": {
            "image/png": "[encoded data removed]",
            "text/plain": [
              "<Figure size 432x648 with 18 Axes>"
            ]
          },
          "metadata": {
            "tags": []
          }
        }
      ]
    },
    {
      "cell_type": "markdown",
      "metadata": {
        "id": "0tOC8qSw3h9K",
        "colab_type": "text"
      },
      "source": [
        "Zipf's Law"
      ]
    },
    {
      "cell_type": "code",
      "metadata": {
        "id": "AdFtq0x3EfEZ",
        "colab_type": "code",
        "outputId": "6ebbf89a-15af-48e6-a5d8-cb127109a655",
        "colab": {
          "base_uri": "https://localhost:8080/",
          "height": 479
        }
      },
      "source": [
        "def zipf_law(df):\n",
        "    \"\"\" Plot Zipf's emperical law\"\"\"    \n",
        "    frequency = {}\n",
        "    for text in df['text']:\n",
        "        for word in text.split():\n",
        "            count = frequency.get(word, 0)\n",
        "            frequency[word] = count + 1\n",
        "    plt.plot(sorted(frequency.values(), reverse=True)[:100])\n",
        "zipf_law(df_small)"
      ],
      "execution_count": 0,
      "outputs": [
        {
          "output_type": "display_data",
          "data": {
            "image/png": "[encoded data removed]",
            "text/plain": [
              "<Figure size 864x576 with 1 Axes>"
            ]
          },
          "metadata": {
            "tags": []
          }
        }
      ]
    },
    {
      "cell_type": "markdown",
      "metadata": {
        "id": "njdRVAgp3kqW",
        "colab_type": "text"
      },
      "source": [
        "Plot histogram of characters "
      ]
    },
    {
      "cell_type": "code",
      "metadata": {
        "id": "YSKDeAcUS0Hj",
        "colab_type": "code",
        "outputId": "1848a8e5-9a53-49f1-bdf0-adc383c1d6ef",
        "colab": {
          "base_uri": "https://localhost:8080/",
          "height": 483
        }
      },
      "source": [
        "plt.hist(df_small['char_count_text'], bins=100)\n",
        "plt.show()"
      ],
      "execution_count": 0,
      "outputs": [
        {
          "output_type": "display_data",
          "data": {
            "image/png": "[encoded data removed]",
            "text/plain": [
              "<Figure size 864x576 with 1 Axes>"
            ]
          },
          "metadata": {
            "tags": []
          }
        }
      ]
    },
    {
      "cell_type": "markdown",
      "metadata": {
        "id": "NQ0AtfGmcdDD",
        "colab_type": "text"
      },
      "source": [
        "# More preprocessing"
      ]
    },
    {
      "cell_type": "code",
      "metadata": {
        "id": "qxPfOxzPEoFC",
        "colab_type": "code",
        "colab": {}
      },
      "source": [
        "from collections import defaultdict\n",
        "\n",
        "frequency = defaultdict(int)\n",
        "for text in df_small['text']:\n",
        "    for word in text.split():\n",
        "        frequency[word] += 1"
      ],
      "execution_count": 0,
      "outputs": []
    },
    {
      "cell_type": "markdown",
      "metadata": {
        "id": "2xjWEWOutPcC",
        "colab_type": "text"
      },
      "source": [
        "## Label Encoder"
      ]
    },
    {
      "cell_type": "markdown",
      "metadata": {
        "id": "dIyJXNpZ3pbX",
        "colab_type": "text"
      },
      "source": [
        "Count and replace rare categories with tag 'rare' (not for target variable)"
      ]
    },
    {
      "cell_type": "code",
      "metadata": {
        "id": "CcG6lTYMvCCL",
        "colab_type": "code",
        "colab": {}
      },
      "source": [
        "def value_counts_remove(df_train: pd.DataFrame, cols=List[str]):\n",
        "    \"\"\" Remove rare categories \"\"\"\n",
        "    \n",
        "    for col in cols:\n",
        "        tmp = df_train[col].value_counts()[df_train[col].value_counts() < 20].index\n",
        "        df_train.loc[df_train[col].isin(tmp), col] = 'rare'\n",
        "    \n",
        "value_counts_remove(df_small, ['section'])"
      ],
      "execution_count": 0,
      "outputs": []
    },
    {
      "cell_type": "code",
      "metadata": {
        "id": "lKAtUYGgtQDF",
        "colab_type": "code",
        "colab": {}
      },
      "source": [
        "# LabelEncoder\n",
        "class LabelEncoderExt(object):\n",
        "    def __init__(self):\n",
        "        \"\"\"\n",
        "        It differs from LabelEncoder by handling new classes and providing a value for it [Unknown]\n",
        "        Unknown will be added in fit and transform will take care of new item. It gives unknown class id\n",
        "        \"\"\"\n",
        "        self.label_encoder = LabelEncoder()\n",
        "        # self.classes_ = self.label_encoder.classes_\n",
        "\n",
        "    def fit(self, data_list):\n",
        "        \"\"\"\n",
        "        This will fit the encoder for all the unique values and introduce unknown value\n",
        "        :param data_list: A list of string\n",
        "        :return: self\n",
        "        \"\"\"\n",
        "        self.label_encoder = self.label_encoder.fit(list(data_list) + ['Unknown'])\n",
        "        self.classes_ = self.label_encoder.classes_\n",
        "\n",
        "        return self\n",
        "\n",
        "    def transform(self, data_list):\n",
        "        \"\"\"\n",
        "        This will transform the data_list to id list where the new values get assigned to Unknown class\n",
        "        :param data_list:\n",
        "        :return:\n",
        "        \"\"\"\n",
        "        new_data_list = list(data_list)\n",
        "        for unique_item in set(data_list):\n",
        "            if unique_item not in self.label_encoder.classes_:\n",
        "                new_data_list = ['Unknown' if x==unique_item else x for x in new_data_list]\n",
        "\n",
        "        return self.label_encoder.transform(new_data_list)\n",
        "\n",
        "def label_encoder(df_train: pd.DataFrame, cols=List[str]):\n",
        "    for col in cols:\n",
        "        le = LabelEncoderExt()\n",
        "        le.fit(df_train.loc[~df_train[col].isin([np.nan]), col].values)\n",
        "        df_train.loc[~df_train[col].isin([np.nan]), col] = le.transform(df_train.loc[~df_train[col].isin([np.nan]), col])\n",
        "        \n",
        "label_encoder(df_small, ['section'])"
      ],
      "execution_count": 0,
      "outputs": []
    },
    {
      "cell_type": "code",
      "metadata": {
        "id": "wEALXQjBWexu",
        "colab_type": "code",
        "colab": {}
      },
      "source": [
        "# label encoder for target variable\n",
        "le = LabelEncoder()\n",
        "y_small = le.fit_transform(y_small)\n",
        "y_small = pd.Series(y_small, name='topic')"
      ],
      "execution_count": 0,
      "outputs": []
    },
    {
      "cell_type": "markdown",
      "metadata": {
        "id": "Uxiy6GQGbeGE",
        "colab_type": "text"
      },
      "source": [
        "## Continuous variables transformations\n",
        "---\n",
        "Only numeric features. 'Text' and 'title' columns are dropped"
      ]
    },
    {
      "cell_type": "code",
      "metadata": {
        "id": "X8BLQqdeJGNz",
        "colab_type": "code",
        "colab": {}
      },
      "source": [
        "from sklearn.feature_selection import mutual_info_classif, f_classif, SelectKBest, VarianceThreshold"
      ],
      "execution_count": 0,
      "outputs": []
    },
    {
      "cell_type": "markdown",
      "metadata": {
        "id": "7N-Qey6q3tJ0",
        "colab_type": "text"
      },
      "source": [
        "Drop columns with 0 variation (all values are the same)\n"
      ]
    },
    {
      "cell_type": "code",
      "metadata": {
        "id": "OkImHPRwKxOr",
        "colab_type": "code",
        "outputId": "2a2d6b55-5f0b-4b90-b6fe-1579ae9eb802",
        "colab": {
          "base_uri": "https://localhost:8080/",
          "height": 35
        }
      },
      "source": [
        "mask = (np.std(df_small, axis=0) == 0)\n",
        "df_small.drop(mask.index[mask], axis=1, inplace=True)\n",
        "print(f'{len(mask.index[mask])} have been dropped')"
      ],
      "execution_count": 0,
      "outputs": [
        {
          "output_type": "stream",
          "text": [
            "1 have been dropped\n"
          ],
          "name": "stdout"
        }
      ]
    },
    {
      "cell_type": "markdown",
      "metadata": {
        "id": "G3wBb9SV3xim",
        "colab_type": "text"
      },
      "source": [
        "CV scores for different type of transformations for only numeric variables (excluding texts, titles)\n"
      ]
    },
    {
      "cell_type": "code",
      "metadata": {
        "id": "qKy90lovbs70",
        "colab_type": "code",
        "outputId": "e1d55423-b009-4c07-968e-1da54f0d287f",
        "colab": {
          "base_uri": "https://localhost:8080/",
          "height": 405
        }
      },
      "source": [
        "numeric_transformators = [RobustScaler(), StandardScaler(), MaxAbsScaler()]\n",
        "clfs = [RandomForestClassifier(), LogisticRegression(), LinearDiscriminantAnalysis(solver='eigen', shrinkage='auto')]\n",
        "\n",
        "def numeric_transformation(train, target, cols, clfs, transformers):\n",
        "    \"\"\"\n",
        "    Apply different transformation for numeric columns (without texts, labels)\n",
        "    with predefined classifiers and check validation scores\n",
        "    \"\"\"\n",
        "    \n",
        "    for clf in clfs:\n",
        "        clf_name = str(clf).split('(')[0]\n",
        "        print(f'For {clf_name}:')\n",
        "        score_no_trans = np.round(cross_val_score(clf, train, target, cv=cv, scoring='f1_weighted', n_jobs=-1), 4)\n",
        "        mean_no_trans = np.round(np.mean(score_no_trans), 4)\n",
        "        std_no_trans = np.round(np.std(score_no_trans), 4)\n",
        "        print(f'Without transformation the average is {mean_no_trans} with scores {score_no_trans} +/-{std_no_trans}')\n",
        "        for scaler in transformers:\n",
        "            classifier_pipeline = make_pipeline(scaler, clf)\n",
        "            score = np.round(cross_val_score(classifier_pipeline, train, target, cv=cv, scoring='f1_weighted', n_jobs=-1), 4)\n",
        "            mean = np.round(np.mean(score), 4)\n",
        "            std = np.round(np.std(score), 4)\n",
        "            scaler_name = str(scaler).split('(')[0]\n",
        "            print(f'For {scaler_name} transformation the average is {mean} with scores {score} +/-{std}')\n",
        "        print('\\n')\n",
        "\n",
        "cols_to_transform = df_small.drop(['text', 'title'], axis=1).columns\n",
        "numeric_transformation(df_small.drop(['text', 'title'], axis=1), y_small, cols_to_transform, clfs, numeric_transformators)"
      ],
      "execution_count": 0,
      "outputs": [
        {
          "output_type": "stream",
          "text": [
            "For RandomForestClassifier:\n",
            "Without transformation the average is 0.1003 with scores [0.1003 0.103  0.1031 0.0999 0.095 ] +/-0.0029\n",
            "For RobustScaler transformation the average is 0.104 with scores [0.1014 0.1077 0.1154 0.0953 0.1   ] +/-0.007\n",
            "For StandardScaler transformation the average is 0.1002 with scores [0.1015 0.0973 0.0957 0.095  0.1113] +/-0.006\n",
            "For MaxAbsScaler transformation the average is 0.1012 with scores [0.0967 0.0902 0.1138 0.1101 0.0953] +/-0.0091\n",
            "\n",
            "\n",
            "For LogisticRegression:\n",
            "Without transformation the average is 0.0462 with scores [0.0533 0.0418 0.0516 0.0421 0.0421] +/-0.0051\n",
            "For RobustScaler transformation the average is 0.0597 with scores [0.056  0.0507 0.0616 0.0668 0.0636] +/-0.0057\n",
            "For StandardScaler transformation the average is 0.0597 with scores [0.056  0.0507 0.0616 0.0666 0.0636] +/-0.0057\n",
            "For MaxAbsScaler transformation the average is 0.0487 with scores [0.054  0.0418 0.0512 0.0544 0.0421] +/-0.0056\n",
            "\n",
            "\n",
            "For LinearDiscriminantAnalysis:\n",
            "Without transformation the average is 0.0593 with scores [0.0558 0.0506 0.0605 0.0659 0.0636] +/-0.0055\n",
            "For RobustScaler transformation the average is 0.0593 with scores [0.0558 0.0506 0.0605 0.0659 0.0636] +/-0.0055\n",
            "For StandardScaler transformation the average is 0.0593 with scores [0.0558 0.0506 0.0605 0.0659 0.0636] +/-0.0055\n",
            "For MaxAbsScaler transformation the average is 0.0494 with scores [0.0546 0.0418 0.0554 0.0529 0.0421] +/-0.0061\n",
            "\n",
            "\n"
          ],
          "name": "stdout"
        }
      ]
    },
    {
      "cell_type": "code",
      "metadata": {
        "id": "BHuN2tPkz0Hb",
        "colab_type": "code",
        "colab": {}
      },
      "source": [
        "#-----------------------------------------------------------------------#\n",
        "# Drop zero variation columns\n",
        "# Choose best transformation - fit_transform on train, transform on test\n",
        "#-----------------------------------------------------------------------#"
      ],
      "execution_count": 0,
      "outputs": []
    },
    {
      "cell_type": "markdown",
      "metadata": {
        "id": "pvjyx_TX7Eeh",
        "colab_type": "text"
      },
      "source": [
        "## Univariate feature selection"
      ]
    },
    {
      "cell_type": "markdown",
      "metadata": {
        "id": "oimZmjxx39JA",
        "colab_type": "text"
      },
      "source": [
        "Use logistic regression and f-score for univariate feature selection\n"
      ]
    },
    {
      "cell_type": "code",
      "metadata": {
        "id": "6lsKg1LCz0Lr",
        "colab_type": "code",
        "outputId": "d09b97e1-b703-4b5a-f4d5-f6ef340d5e3f",
        "colab": {
          "base_uri": "https://localhost:8080/",
          "height": 353
        }
      },
      "source": [
        "def f_value_classification(train, target, bot_threshold, n_splits):\n",
        "    \"\"\"\n",
        "    Calculate validation scores for univariate feature selection with F-score\n",
        "    \"\"\"\n",
        "    threshold = np.linspace(len(train.columns), bot_threshold, n_splits, dtype=int)\n",
        "    for number in threshold:\n",
        "        f_value_selector = SelectKBest(f_classif, number)\n",
        "        train_selected = pd.DataFrame(f_value_selector.fit_transform(train, target))\n",
        "        scores = np.round(cross_val_score(LogisticRegression(), train_selected, target, scoring=f1score, cv=cv, n_jobs=-1), 4)\n",
        "        mean = np.round(np.mean(scores), 4)\n",
        "        std = np.round(np.std(scores), 4)\n",
        "        print(f'For threshold {number}: average is {mean}, std is {std}, scores are {scores}')\n",
        "\n",
        "f_value_classification(df_small.drop(['text', 'title'], axis=1), y_small, 65, 20)"
      ],
      "execution_count": 0,
      "outputs": [
        {
          "output_type": "stream",
          "text": [
            "For threshold 84: average is 0.3674, std is 0.0068, scores are [0.3607 0.3691 0.366  0.3616 0.3796]\n",
            "For threshold 83: average is 0.3693, std is 0.0078, scores are [0.3587 0.3675 0.3683 0.3689 0.3829]\n",
            "For threshold 82: average is 0.369, std is 0.006, scores are [0.362  0.3658 0.3691 0.3682 0.3799]\n",
            "For threshold 81: average is 0.3695, std is 0.007, scores are [0.3636 0.3685 0.3692 0.3634 0.3826]\n",
            "For threshold 80: average is 0.3672, std is 0.0072, scores are [0.3588 0.3637 0.3652 0.368  0.3803]\n",
            "For threshold 79: average is 0.3682, std is 0.0076, scores are [0.3606 0.3668 0.3724 0.3606 0.3806]\n",
            "For threshold 78: average is 0.3658, std is 0.0062, scores are [0.36   0.3624 0.3675 0.3619 0.3771]\n",
            "For threshold 77: average is 0.3651, std is 0.0051, scores are [0.3609 0.3646 0.3711 0.3583 0.3704]\n",
            "For threshold 76: average is 0.3662, std is 0.0069, scores are [0.3559 0.3624 0.3756 0.3655 0.3717]\n",
            "For threshold 75: average is 0.3649, std is 0.005, scores are [0.3594 0.3615 0.371  0.3616 0.3709]\n",
            "For threshold 74: average is 0.3678, std is 0.0051, scores are [0.3627 0.3659 0.3757 0.3629 0.3717]\n",
            "For threshold 73: average is 0.3662, std is 0.004, scores are [0.3603 0.3673 0.3711 0.363  0.3695]\n",
            "For threshold 72: average is 0.3684, std is 0.0084, scores are [0.3638 0.3646 0.3773 0.3572 0.3791]\n",
            "For threshold 71: average is 0.3656, std is 0.0067, scores are [0.3617 0.3614 0.3741 0.3577 0.3733]\n",
            "For threshold 70: average is 0.3674, std is 0.0044, scores are [0.3594 0.367  0.3708 0.3679 0.3718]\n",
            "For threshold 69: average is 0.3686, std is 0.0052, scores are [0.3631 0.3661 0.3742 0.3642 0.3756]\n",
            "For threshold 68: average is 0.37, std is 0.0048, scores are [0.3619 0.3723 0.3761 0.3677 0.3718]\n",
            "For threshold 67: average is 0.3668, std is 0.0057, scores are [0.3595 0.3616 0.3715 0.3668 0.3746]\n",
            "For threshold 66: average is 0.3679, std is 0.0066, scores are [0.3571 0.3644 0.3729 0.3697 0.3756]\n",
            "For threshold 65: average is 0.3662, std is 0.0066, scores are [0.3571 0.3626 0.3727 0.3636 0.3749]\n"
          ],
          "name": "stdout"
        }
      ]
    },
    {
      "cell_type": "code",
      "metadata": {
        "id": "83Fix3D9L4HI",
        "colab_type": "code",
        "colab": {}
      },
      "source": [
        "#-----------------------------------------------------------------------#\n",
        "# Drop unneccessary columns (68 is the best)\n",
        "#-----------------------------------------------------------------------#"
      ],
      "execution_count": 0,
      "outputs": []
    },
    {
      "cell_type": "markdown",
      "metadata": {
        "id": "M7nHYqshe97r",
        "colab_type": "text"
      },
      "source": [
        "## Rake"
      ]
    },
    {
      "cell_type": "code",
      "metadata": {
        "id": "OlSGgJirmzOA",
        "colab_type": "code",
        "colab": {}
      },
      "source": [
        "# Rake "
      ],
      "execution_count": 0,
      "outputs": []
    },
    {
      "cell_type": "markdown",
      "metadata": {
        "id": "aPbiKl9SIMbb",
        "colab_type": "text"
      },
      "source": [
        "## N-grams"
      ]
    },
    {
      "cell_type": "code",
      "metadata": {
        "id": "Hrv1eD83IPAM",
        "colab_type": "code",
        "colab": {}
      },
      "source": [
        "# Create N-grams"
      ],
      "execution_count": 0,
      "outputs": []
    },
    {
      "cell_type": "markdown",
      "metadata": {
        "id": "4KwFxHwDZuIn",
        "colab_type": "text"
      },
      "source": [
        "## Topic and text"
      ]
    },
    {
      "cell_type": "code",
      "metadata": {
        "id": "_WHdebhQZwgO",
        "colab_type": "code",
        "colab": {}
      },
      "source": [
        "# 9. Count matching between 'title' and 'text'"
      ],
      "execution_count": 0,
      "outputs": []
    },
    {
      "cell_type": "markdown",
      "metadata": {
        "id": "DllR8uceWW9S",
        "colab_type": "text"
      },
      "source": [
        "## ?"
      ]
    },
    {
      "cell_type": "code",
      "metadata": {
        "id": "Ex5JseQyxwMM",
        "colab_type": "code",
        "colab": {}
      },
      "source": [
        "# Поиск разрывных коллокаций (после лематизации)\n",
        "# Меры ассоциации биграм (T-SCORE or RawFreq, (Chi_square, PMI) via nltk.collocations)\n",
        "# TextRank in GenSim\n",
        "\n",
        "# LDA https://www.analyticsvidhya.com/blog/2018/04/a-comprehensive-guide-to-understand-and-implement-text-classification-in-python/\n",
        "# LDA https://www.analyticsvidhya.com/blog/2016/08/beginners-guide-to-topic-modeling-in-python/"
      ],
      "execution_count": 0,
      "outputs": []
    },
    {
      "cell_type": "markdown",
      "metadata": {
        "id": "eLHJkmFhMnSa",
        "colab_type": "text"
      },
      "source": [
        "## Word Embedings\n",
        "- word embedings + PCA"
      ]
    },
    {
      "cell_type": "code",
      "metadata": {
        "id": "KhP-jRYMMpWs",
        "colab_type": "code",
        "colab": {}
      },
      "source": [
        "# Word embedings with 'FastText' or 'Word2Vec' + PCA"
      ],
      "execution_count": 0,
      "outputs": []
    },
    {
      "cell_type": "markdown",
      "metadata": {
        "id": "n7SeJi0ML4b2",
        "colab_type": "text"
      },
      "source": [
        "## TF-IDF\n",
        "- do TFIDF with PCA, ICA, etc"
      ]
    },
    {
      "cell_type": "code",
      "metadata": {
        "id": "uNlCEMOho9VQ",
        "colab_type": "code",
        "colab": {}
      },
      "source": [
        "from sklearn.feature_extraction.text import TfidfVectorizer\n",
        "from sklearn.feature_selection import chi2"
      ],
      "execution_count": 0,
      "outputs": []
    },
    {
      "cell_type": "markdown",
      "metadata": {
        "id": "f2shz1YYYmip",
        "colab_type": "text"
      },
      "source": [
        "Lets check top unigrams assciated with each category"
      ]
    },
    {
      "cell_type": "code",
      "metadata": {
        "id": "KOOAQflBpAEc",
        "colab_type": "code",
        "outputId": "ff172247-6b5c-44ef-d889-bf530d0c5597",
        "colab": {
          "base_uri": "https://localhost:8080/",
          "height": 368
        }
      },
      "source": [
        "# Calculate tfidf features\n",
        "tfidf = TfidfVectorizer(max_df=0.5, min_df=0.01, max_features=5000)\n",
        "features = tfidf.fit_transform(df_small['text']).toarray()\n",
        "\n",
        "# Find top words asscociated with each topics category\n",
        "def top_unigrams_for_target(target, number):\n",
        "    \"\"\" Print top-number unigrams for each target category\"\"\"\n",
        "\n",
        "    # we use LabelEncoder fitted earlier on target\n",
        "    #(https://colab.research.google.com/drive/104oBcvB0MoIZtVxFUdaV08SFG97YrnfB#scrollTo=wEALXQjBWexu&line=4&uniqifier=1)\n",
        "    category_to_id = dict(zip(le.classes_, range(len(le.classes_))))\n",
        "    print(f'Most correlated unigrams:')\n",
        "    for product, category_id in sorted(category_to_id.items()):\n",
        "        features_chi2 = chi2(features, target == category_id)\n",
        "        indices = np.argsort(features_chi2[0])\n",
        "        feature_names = np.array(tfidf.get_feature_names())[indices]\n",
        "        unigrams = [v for v in feature_names if len(v.split(' ')) == 1]\n",
        "        print(f'#{product}: {unigrams[-5:]}')\n",
        "\n",
        "top_unigrams_for_target(y_small, 5)"
      ],
      "execution_count": 0,
      "outputs": [
        {
          "output_type": "stream",
          "text": [
            "Most correlated unigrams:\n",
            "#69-я параллель: ['морской', 'северный', 'округ', 'север', 'край']\n",
            "#Бизнес: ['предприятие', 'завод', 'продукция', 'газ', 'компания']\n",
            "#Бывший СССР: ['донбасс', 'порошенко', 'украинский', 'киев', 'украина']\n",
            "#Дом: ['ставка', 'квадратный', 'недвижимость', 'жилье', 'квартира']\n",
            "#Из жизни: ['животный', 'собака', 'daily', 'mail', 'животное']\n",
            "#Интернет и СМИ: ['аккаунт', 'соцсеть', 'сеть', 'сервис', 'пользователь']\n",
            "#Крым: ['полуостров', 'мост', 'крымский', 'крым', 'севастополь']\n",
            "#Культпросвет: ['исторический', 'режиссер', 'выставка', 'музей', 'культура']\n",
            "#Культура: ['музыкант', 'актер', 'режиссер', 'картина', 'фильм']\n",
            "#Легпром: ['товар', 'изделие', 'производитель', 'легкий', 'промышленность']\n",
            "#Мир: ['reuters', 'сирия', 'сша', 'иго', 'трамп']\n",
            "#Наука и техника: ['исследование', 'планета', 'исследователь', 'космический', 'ученый']\n",
            "#Путешествия: ['отдых', 'авиакомпания', 'рейс', 'путешественник', 'турист']\n",
            "#Россия: ['кремль', 'мчс', 'область', 'госдума', 'песков']\n",
            "#Силовые структуры: ['ук', 'уголовный', 'следственный', 'скр', 'следствие']\n",
            "#Спорт: ['турнир', 'команда', 'чемпионат', 'сборная', 'матч']\n",
            "#Ценности: ['модель', 'обувь', 'одежда', 'бренд', 'коллекция']\n",
            "#Экономика: ['процент', 'цб', 'баррель', 'банк', 'нефть']\n"
          ],
          "name": "stdout"
        }
      ]
    },
    {
      "cell_type": "code",
      "metadata": {
        "id": "LNT_6t_GeUep",
        "colab_type": "code",
        "outputId": "deee9f46-b7be-48fc-b755-67b0132f46e3",
        "colab": {
          "base_uri": "https://localhost:8080/",
          "height": 35
        }
      },
      "source": [
        "# Average: 0.7357\n",
        "def tf_idf_cv(df, target, clf): \n",
        "    \"\"\" CV scores for tfidf transformation\"\"\"\n",
        "    \n",
        "    scores = []\n",
        "    for train_index, test_index in cv.split(df, target): #cv defined in cv-block\n",
        "        x_train = df.loc[train_index, :].copy().reset_index(drop=True)\n",
        "        x_test = df.loc[test_index, :].copy().reset_index(drop=True)\n",
        "        y_train = target.loc[train_index].copy().reset_index(drop=True)\n",
        "        y_test = target.loc[test_index].copy().reset_index(drop=True)\n",
        "        \n",
        "        # transform text\n",
        "        tfidf = TfidfVectorizer(max_df=0.5, min_df=0.01, max_features=5000)\n",
        "        text_train = tfidf.fit_transform(x_train['text']).toarray()\n",
        "        text_train = pd.DataFrame(text_train)\n",
        "        x_train = pd.concat([x_train, text_train], axis=1, ignore_index=False)\n",
        "        text_test = tfidf.transform(x_test['text']).toarray()\n",
        "        text_test = pd.DataFrame(text_test)\n",
        "        x_test = pd.concat([x_test, text_test], axis=1)\n",
        "        x_train.drop(['text'], axis=1, inplace=True)\n",
        "        x_test.drop(['text'], axis=1, inplace=True)\n",
        "\n",
        "        # Transform title\n",
        "        tfidf = TfidfVectorizer(max_df=0.5, min_df=0.001, max_features=5000)\n",
        "        title_train = tfidf.fit_transform(x_train['title']).toarray()\n",
        "        title_train = pd.DataFrame(title_train)\n",
        "        x_train = pd.concat([x_train, title_train], axis=1, ignore_index=False)\n",
        "        title_test = tfidf.transform(x_test['title']).toarray()\n",
        "        title_test = pd.DataFrame(title_test)\n",
        "        x_test = pd.concat([x_test, title_test], axis=1)\n",
        "        x_train.drop(['title'], axis=1, inplace=True)\n",
        "        x_test.drop(['title'], axis=1, inplace=True)\n",
        "        #return x_train, x_test\n",
        "\n",
        "        # Fit/predict\n",
        "        clf.fit(x_train, y_train)\n",
        "        score = round(f1_score(clf.predict(x_test), y_test, average='weighted'), 4)\n",
        "        scores.append(score)\n",
        "\n",
        "    mean = round(np.mean(scores), 4)\n",
        "    std = round(np.std(scores), 4)\n",
        "    print(f'Average: {mean}, std: +/-{std}, scores: {scores}')\n",
        "        \n",
        "tf_idf_cv(df_small, y_small, LogisticRegression())"
      ],
      "execution_count": 0,
      "outputs": [
        {
          "output_type": "stream",
          "text": [
            "Average: 0.7357, std: +/-0.008, scores: [0.7386, 0.7495, 0.7309, 0.7336, 0.7259]\n"
          ],
          "name": "stdout"
        }
      ]
    },
    {
      "cell_type": "markdown",
      "metadata": {
        "id": "CJpU16xgZ165",
        "colab_type": "text"
      },
      "source": [
        "After we conduct tfidf lets check how does score imporove with and without text statistics we calculated above"
      ]
    },
    {
      "cell_type": "code",
      "metadata": {
        "id": "yI8Sd9bSami9",
        "colab_type": "code",
        "outputId": "e8f289a8-521a-4deb-c538-a8d133b99d50",
        "colab": {
          "base_uri": "https://localhost:8080/",
          "height": 35
        }
      },
      "source": [
        "# Average: 0.7473\n",
        "def tf_idf_cv_no_stats(df, target, clf): \n",
        "    \"\"\" CV scores for tfidf transformation without stats features\"\"\"\n",
        "    \n",
        "    scores = []\n",
        "    cols_to_drop = df.drop(['title', 'text'], axis=1).columns\n",
        "    for train_index, test_index in cv.split(df, target): #cv defined in cv-block\n",
        "        x_train = df.loc[train_index, :].copy().reset_index(drop=True)\n",
        "        x_test = df.loc[test_index, :].copy().reset_index(drop=True)\n",
        "        y_train = target.loc[train_index].copy().reset_index(drop=True)\n",
        "        y_test = target.loc[test_index].copy().reset_index(drop=True)\n",
        "        x_train.drop(cols_to_drop, axis=1, inplace=True)\n",
        "        x_test.drop(cols_to_drop, axis=1, inplace=True)\n",
        "\n",
        "        # transform text\n",
        "        tfidf = TfidfVectorizer(max_df=0.5, min_df=0.01, max_features=5000)\n",
        "        text_train = tfidf.fit_transform(x_train['text']).toarray()\n",
        "        text_train = pd.DataFrame(text_train)\n",
        "        x_train = pd.concat([x_train, text_train], axis=1, ignore_index=False)\n",
        "        text_test = tfidf.transform(x_test['text']).toarray()\n",
        "        text_test = pd.DataFrame(text_test)\n",
        "        x_test = pd.concat([x_test, text_test], axis=1)\n",
        "        x_train.drop(['text'], axis=1, inplace=True)\n",
        "        x_test.drop(['text'], axis=1, inplace=True)\n",
        "\n",
        "        # Transform title\n",
        "        tfidf = TfidfVectorizer(max_df=0.5, min_df=0.001, max_features=5000)\n",
        "        title_train = tfidf.fit_transform(x_train['title']).toarray()\n",
        "        title_train = pd.DataFrame(title_train)\n",
        "        x_train = pd.concat([x_train, title_train], axis=1, ignore_index=False)\n",
        "        title_test = tfidf.transform(x_test['title']).toarray()\n",
        "        title_test = pd.DataFrame(title_test)\n",
        "        x_test = pd.concat([x_test, title_test], axis=1)\n",
        "        x_train.drop(['title'], axis=1, inplace=True)\n",
        "        x_test.drop(['title'], axis=1, inplace=True)\n",
        "        #return x_train, x_test\n",
        "\n",
        "        # Fit/predict\n",
        "        clf.fit(x_train, y_train)\n",
        "        score = round(f1_score(clf.predict(x_test), y_test, average='weighted'), 4)\n",
        "        scores.append(score)\n",
        "\n",
        "    mean = round(np.mean(scores), 4)\n",
        "    std = round(np.std(scores), 4)\n",
        "    print(f'Average: {mean}, std: +/-{std}, scores: {scores}')\n",
        "        \n",
        "tf_idf_cv_no_stats(df_small, y_small, LogisticRegression())"
      ],
      "execution_count": 0,
      "outputs": [
        {
          "output_type": "stream",
          "text": [
            "Average: 0.7473, std: +/-0.0092, scores: [0.7493, 0.7611, 0.7366, 0.7516, 0.7377]\n"
          ],
          "name": "stdout"
        }
      ]
    },
    {
      "cell_type": "code",
      "metadata": {
        "id": "WLpo_5bD6b-i",
        "colab_type": "code",
        "outputId": "e7ccabc0-741a-44e9-d2ed-91c50fbb3ae9",
        "colab": {
          "base_uri": "https://localhost:8080/",
          "height": 616
        }
      },
      "source": [
        "corpus = nltk.sent_tokenize(df_small['text'])"
      ],
      "execution_count": 0,
      "outputs": [
        {
          "output_type": "error",
          "ename": "TypeError",
          "evalue": "ignored",
          "traceback": [
            "Traceback \u001b[0;36m(most recent call last)\u001b[0m:\n",
            "  File \u001b[1;32m\"<ipython-input-50-f4a407e38d81>\"\u001b[0m, line \u001b[1;32m1\u001b[0m, in \u001b[1;35m<module>\u001b[0m\n    corpus = nltk.sent_tokenize(df_small['text'])\n",
            "  File \u001b[1;32m\"/usr/local/lib/python3.6/dist-packages/nltk/tokenize/__init__.py\"\u001b[0m, line \u001b[1;32m95\u001b[0m, in \u001b[1;35msent_tokenize\u001b[0m\n    return tokenizer.tokenize(text)\n",
            "  File \u001b[1;32m\"/usr/local/lib/python3.6/dist-packages/nltk/tokenize/punkt.py\"\u001b[0m, line \u001b[1;32m1237\u001b[0m, in \u001b[1;35mtokenize\u001b[0m\n    return list(self.sentences_from_text(text, realign_boundaries))\n",
            "  File \u001b[1;32m\"/usr/local/lib/python3.6/dist-packages/nltk/tokenize/punkt.py\"\u001b[0m, line \u001b[1;32m1285\u001b[0m, in \u001b[1;35msentences_from_text\u001b[0m\n    return [text[s:e] for s, e in self.span_tokenize(text, realign_boundaries)]\n",
            "  File \u001b[1;32m\"/usr/local/lib/python3.6/dist-packages/nltk/tokenize/punkt.py\"\u001b[0m, line \u001b[1;32m1276\u001b[0m, in \u001b[1;35mspan_tokenize\u001b[0m\n    return [(sl.start, sl.stop) for sl in slices]\n",
            "  File \u001b[1;32m\"/usr/local/lib/python3.6/dist-packages/nltk/tokenize/punkt.py\"\u001b[0m, line \u001b[1;32m1276\u001b[0m, in \u001b[1;35m<listcomp>\u001b[0m\n    return [(sl.start, sl.stop) for sl in slices]\n",
            "  File \u001b[1;32m\"/usr/local/lib/python3.6/dist-packages/nltk/tokenize/punkt.py\"\u001b[0m, line \u001b[1;32m1316\u001b[0m, in \u001b[1;35m_realign_boundaries\u001b[0m\n    for sl1, sl2 in _pair_iter(slices):\n",
            "  File \u001b[1;32m\"/usr/local/lib/python3.6/dist-packages/nltk/tokenize/punkt.py\"\u001b[0m, line \u001b[1;32m312\u001b[0m, in \u001b[1;35m_pair_iter\u001b[0m\n    prev = next(it)\n",
            "\u001b[0;36m  File \u001b[0;32m\"/usr/local/lib/python3.6/dist-packages/nltk/tokenize/punkt.py\"\u001b[0;36m, line \u001b[0;32m1289\u001b[0;36m, in \u001b[0;35m_slices_from_text\u001b[0;36m\u001b[0m\n\u001b[0;31m    for match in self._lang_vars.period_context_re().finditer(text):\u001b[0m\n",
            "\u001b[0;31mTypeError\u001b[0m\u001b[0;31m:\u001b[0m expected string or bytes-like object\n"
          ]
        }
      ]
    },
    {
      "cell_type": "markdown",
      "metadata": {
        "id": "jNuJchfCQU10",
        "colab_type": "text"
      },
      "source": [
        "## Topic models as features"
      ]
    },
    {
      "cell_type": "code",
      "metadata": {
        "id": "SzAEZqKeQW3n",
        "colab_type": "code",
        "colab": {}
      },
      "source": [
        "# Latent Dirichlet Allocation\n",
        "# BigARTM (http://www.machinelearning.ru/wiki/images/6/6d/BigARTM-short-intro.pdf)"
      ],
      "execution_count": 0,
      "outputs": []
    },
    {
      "cell_type": "markdown",
      "metadata": {
        "id": "ledQSVddbePl",
        "colab_type": "text"
      },
      "source": [
        "# Prepare set"
      ]
    },
    {
      "cell_type": "code",
      "metadata": {
        "id": "tVAwyLkUbd3B",
        "colab_type": "code",
        "colab": {}
      },
      "source": [
        ""
      ],
      "execution_count": 0,
      "outputs": []
    },
    {
      "cell_type": "markdown",
      "metadata": {
        "id": "SGcIuyoxRI15",
        "colab_type": "text"
      },
      "source": [
        "## Chunking"
      ]
    },
    {
      "cell_type": "markdown",
      "metadata": {
        "id": "l2x3QM_FQi51",
        "colab_type": "text"
      },
      "source": [
        "# Models"
      ]
    },
    {
      "cell_type": "markdown",
      "metadata": {
        "id": "ZBZgkp-yQku7",
        "colab_type": "text"
      },
      "source": [
        "## Naive Bayes"
      ]
    },
    {
      "cell_type": "code",
      "metadata": {
        "id": "h6cOqmEKQn3M",
        "colab_type": "code",
        "colab": {}
      },
      "source": [
        ""
      ],
      "execution_count": 0,
      "outputs": []
    },
    {
      "cell_type": "markdown",
      "metadata": {
        "id": "wef1YTCMQ_DV",
        "colab_type": "text"
      },
      "source": [
        "## Logisitc Regression"
      ]
    },
    {
      "cell_type": "code",
      "metadata": {
        "id": "hXHk7a-eQ9r0",
        "colab_type": "code",
        "colab": {}
      },
      "source": [
        ""
      ],
      "execution_count": 0,
      "outputs": []
    },
    {
      "cell_type": "markdown",
      "metadata": {
        "id": "T27TnftOQqqD",
        "colab_type": "text"
      },
      "source": [
        "## SVM"
      ]
    },
    {
      "cell_type": "code",
      "metadata": {
        "id": "TGwoAjnrQry7",
        "colab_type": "code",
        "colab": {}
      },
      "source": [
        ""
      ],
      "execution_count": 0,
      "outputs": []
    },
    {
      "cell_type": "markdown",
      "metadata": {
        "id": "qBp2iMJrRGu1",
        "colab_type": "text"
      },
      "source": [
        "## RF"
      ]
    },
    {
      "cell_type": "code",
      "metadata": {
        "id": "KRFwu3eURIVM",
        "colab_type": "code",
        "colab": {}
      },
      "source": [
        ""
      ],
      "execution_count": 0,
      "outputs": []
    },
    {
      "cell_type": "markdown",
      "metadata": {
        "id": "urpmCuB7RIyp",
        "colab_type": "text"
      },
      "source": [
        "## CatBoost/LGBM"
      ]
    },
    {
      "cell_type": "code",
      "metadata": {
        "id": "WyOySCadRMW-",
        "colab_type": "code",
        "colab": {}
      },
      "source": [
        ""
      ],
      "execution_count": 0,
      "outputs": []
    },
    {
      "cell_type": "markdown",
      "metadata": {
        "id": "c3hXpCdpQsMF",
        "colab_type": "text"
      },
      "source": [
        "## CNN"
      ]
    },
    {
      "cell_type": "code",
      "metadata": {
        "id": "rMDATHm2Queu",
        "colab_type": "code",
        "colab": {}
      },
      "source": [
        ""
      ],
      "execution_count": 0,
      "outputs": []
    },
    {
      "cell_type": "markdown",
      "metadata": {
        "id": "7HwwFClgQutu",
        "colab_type": "text"
      },
      "source": [
        "## RNN"
      ]
    },
    {
      "cell_type": "code",
      "metadata": {
        "id": "qDrhTNhPQwpu",
        "colab_type": "code",
        "colab": {}
      },
      "source": [
        ""
      ],
      "execution_count": 0,
      "outputs": []
    },
    {
      "cell_type": "markdown",
      "metadata": {
        "id": "fD9SEkb1RyeH",
        "colab_type": "text"
      },
      "source": [
        "# Sources"
      ]
    },
    {
      "cell_type": "code",
      "metadata": {
        "id": "cSEc5_KjR0_T",
        "colab_type": "code",
        "colab": {}
      },
      "source": [
        "# 1. https://www.analyticsvidhya.com/blog/2018/04/a-comprehensive-guide-to-understand-and-implement-text-classification-in-python/"
      ],
      "execution_count": 0,
      "outputs": []
    }
  ]
}